{
 "cells": [
  {
   "cell_type": "code",
   "execution_count": null,
   "id": "a1fec6ef-aa69-416f-992a-531b2038e0ca",
   "metadata": {},
   "outputs": [],
   "source": []
  }
 ],
 "metadata": {
  "kernelspec": {
   "display_name": "",
   "name": ""
  },
  "language_info": {
   "name": ""
  }
 },
 "nbformat": 4,
 "nbformat_minor": 5
}
